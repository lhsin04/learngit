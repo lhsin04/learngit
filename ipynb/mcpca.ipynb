{
 "cells": [
  {
   "cell_type": "code",
   "execution_count": 1,
   "metadata": {},
   "outputs": [
    {
     "name": "stderr",
     "output_type": "stream",
     "text": [
      "C:\\Users\\lhsin04\\Anaconda3\\lib\\site-packages\\sklearn\\cross_validation.py:41: DeprecationWarning: This module was deprecated in version 0.18 in favor of the model_selection module into which all the refactored classes and functions are moved. Also note that the interface of the new CV iterators are different from that of this module. This module will be removed in 0.20.\n",
      "  \"This module will be removed in 0.20.\", DeprecationWarning)\n",
      "C:\\Users\\lhsin04\\Anaconda3\\lib\\site-packages\\sklearn\\ensemble\\weight_boosting.py:29: DeprecationWarning: numpy.core.umath_tests is an internal NumPy module and should not be imported. It will be removed in a future NumPy release.\n",
      "  from numpy.core.umath_tests import inner1d\n"
     ]
    }
   ],
   "source": [
    "from sklearn import svm\n",
    "import numpy as np\n",
    "import pandas as pd\n",
    "import matplotlib.pyplot as plt\n",
    "from sklearn.cross_validation import train_test_split\n",
    "from sklearn.feature_extraction import DictVectorizer\n",
    "from sklearn.tree import DecisionTreeClassifier\n",
    "from sklearn.metrics import classification_report\n",
    "from sklearn.ensemble import RandomForestClassifier, GradientBoostingClassifier\n",
    "from sklearn.naive_bayes import GaussianNB  ##导入高斯朴素贝叶斯算法\n",
    "\n",
    "import random\n",
    "import lightgbm as lgb\n",
    "\n",
    "\n",
    "\n",
    "data=pd.read_csv('C:/2datasets/1.csv')\n",
    "data2=pd.read_csv('C:/2datasets/2.csv')\n",
    "\n",
    "\n",
    "\n",
    "#print(data.isnull().sum())\n",
    "data.fillna(data.median()['T'],inplace=True)\n",
    "data2.fillna(data.median()['T'],inplace=True)\n",
    "\n",
    "data.drop([\"Mn1\",'name',\"S1\",'C2',\"Mn2\",\"S2\",\"P2\",\"Si2\",'Cr2',\"N_val2\",\"O_val2\",\"B_val2\",\"2\",\"4\",\"8\",\"10\"],axis=1,inplace=True)\n",
    "data2.drop([\"Mn1\",'name',\"S1\",'C2',\"Mn2\",\"S2\",\"P2\",\"Si2\",'Cr2',\"N_val2\",\"O_val2\",\"B_val2\",\"2\",\"4\",\"8\",\"10\"],axis=1,inplace=True)\n",
    "\n",
    "\n"
   ]
  },
  {
   "cell_type": "code",
   "execution_count": 2,
   "metadata": {},
   "outputs": [],
   "source": [
    "dddd=data.values\n",
    "x1=dddd[:,:-1]\n",
    "y1=dddd[:,-1]\n",
    "from sklearn.cross_validation import train_test_split\n",
    "from sklearn.preprocessing import StandardScaler\n",
    "sc = StandardScaler()\n",
    "x1 = sc.fit_transform(x1)\n",
    "\n",
    "ffff=data2.values\n",
    "ffff = sc.fit_transform(ffff)"
   ]
  },
  {
   "cell_type": "code",
   "execution_count": 4,
   "metadata": {},
   "outputs": [
    {
     "data": {
      "text/plain": [
       "array([1.85097437e-01, 1.05641133e-01, 9.28666733e-02, 7.83849906e-02,\n",
       "       6.88865363e-02, 6.45271125e-02, 5.97396611e-02, 5.01877668e-02,\n",
       "       3.98842975e-02, 3.56142800e-02, 3.45270997e-02, 3.24885141e-02,\n",
       "       2.73401798e-02, 2.39410984e-02, 1.82477706e-02, 1.67639994e-02,\n",
       "       1.41542843e-02, 1.33383299e-02, 1.17474639e-02, 8.64887380e-03,\n",
       "       6.24077841e-03, 4.75131852e-03, 3.69732152e-03, 2.41610284e-03,\n",
       "       5.10957966e-04, 3.43005961e-04, 1.28880330e-05, 1.25020822e-07])"
      ]
     },
     "execution_count": 4,
     "metadata": {},
     "output_type": "execute_result"
    }
   ],
   "source": [
    "from sklearn.linear_model import LogisticRegression\n",
    "from sklearn.decomposition import PCA\n",
    "pca = PCA(n_components=None) # 保留所有的主成分\n",
    "X_train_pca = pca.fit_transform(x1)\n",
    "pca.explained_variance_ratio_"
   ]
  },
  {
   "cell_type": "code",
   "execution_count": null,
   "metadata": {},
   "outputs": [],
   "source": []
  }
 ],
 "metadata": {
  "kernelspec": {
   "display_name": "Python 3",
   "language": "python",
   "name": "python3"
  },
  "language_info": {
   "codemirror_mode": {
    "name": "ipython",
    "version": 3
   },
   "file_extension": ".py",
   "mimetype": "text/x-python",
   "name": "python",
   "nbconvert_exporter": "python",
   "pygments_lexer": "ipython3",
   "version": "3.7.0"
  }
 },
 "nbformat": 4,
 "nbformat_minor": 2
}
